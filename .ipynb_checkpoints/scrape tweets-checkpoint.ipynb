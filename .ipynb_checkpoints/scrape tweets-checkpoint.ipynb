{
 "cells": [
  {
   "cell_type": "code",
   "execution_count": 1,
   "id": "981139bb",
   "metadata": {},
   "outputs": [
    {
     "name": "stdout",
     "output_type": "stream",
     "text": [
      "Collecting snscrape\n",
      "  Downloading snscrape-0.3.4-py3-none-any.whl (35 kB)\n",
      "Requirement already satisfied: pandas in c:\\users\\sankalp\\anaconda3\\envs\\eda\\lib\\site-packages (1.3.5)\n",
      "Collecting lxml\n",
      "  Downloading lxml-5.4.0-cp37-cp37m-win_amd64.whl (3.8 MB)\n",
      "Requirement already satisfied: beautifulsoup4 in c:\\users\\sankalp\\anaconda3\\envs\\eda\\lib\\site-packages (from snscrape) (4.11.1)\n",
      "Requirement already satisfied: requests[socks] in c:\\users\\sankalp\\anaconda3\\envs\\eda\\lib\\site-packages (from snscrape) (2.28.0)\n",
      "Requirement already satisfied: python-dateutil>=2.7.3 in c:\\users\\sankalp\\anaconda3\\envs\\eda\\lib\\site-packages (from pandas) (2.8.2)\n",
      "Requirement already satisfied: pytz>=2017.3 in c:\\users\\sankalp\\anaconda3\\envs\\eda\\lib\\site-packages (from pandas) (2022.1)\n",
      "Requirement already satisfied: numpy>=1.17.3 in c:\\users\\sankalp\\anaconda3\\envs\\eda\\lib\\site-packages (from pandas) (1.21.6)\n",
      "Requirement already satisfied: six>=1.5 in c:\\users\\sankalp\\anaconda3\\envs\\eda\\lib\\site-packages (from python-dateutil>=2.7.3->pandas) (1.16.0)\n",
      "Requirement already satisfied: soupsieve>1.2 in c:\\users\\sankalp\\anaconda3\\envs\\eda\\lib\\site-packages (from beautifulsoup4->snscrape) (2.3.1)\n",
      "Requirement already satisfied: charset-normalizer~=2.0.0 in c:\\users\\sankalp\\anaconda3\\envs\\eda\\lib\\site-packages (from requests[socks]->snscrape) (2.0.12)\n",
      "Requirement already satisfied: urllib3<1.27,>=1.21.1 in c:\\users\\sankalp\\anaconda3\\envs\\eda\\lib\\site-packages (from requests[socks]->snscrape) (1.26.9)\n",
      "Requirement already satisfied: idna<4,>=2.5 in c:\\users\\sankalp\\anaconda3\\envs\\eda\\lib\\site-packages (from requests[socks]->snscrape) (3.3)\n",
      "Requirement already satisfied: certifi>=2017.4.17 in c:\\users\\sankalp\\anaconda3\\envs\\eda\\lib\\site-packages (from requests[socks]->snscrape) (2021.10.8)\n",
      "Collecting PySocks!=1.5.7,>=1.5.6\n",
      "  Using cached PySocks-1.7.1-py3-none-any.whl (16 kB)\n",
      "Installing collected packages: PySocks, lxml, snscrape\n",
      "Successfully installed PySocks-1.7.1 lxml-5.4.0 snscrape-0.3.4\n"
     ]
    }
   ],
   "source": [
    "!pip install snscrape pandas"
   ]
  },
  {
   "cell_type": "code",
   "execution_count": 3,
   "id": "cb85ad15",
   "metadata": {},
   "outputs": [
    {
     "name": "stdout",
     "output_type": "stream",
     "text": [
      "Found existing installation: snscrape 0.3.4\n",
      "Uninstalling snscrape-0.3.4:\n",
      "  Successfully uninstalled snscrape-0.3.4\n"
     ]
    }
   ],
   "source": [
    "!pip uninstall snscrape -y"
   ]
  },
  {
   "cell_type": "code",
   "execution_count": 4,
   "id": "ad0c8381",
   "metadata": {},
   "outputs": [
    {
     "name": "stdout",
     "output_type": "stream",
     "text": [
      "Collecting git+https://github.com/JustAnotherArchivist/snscrape.git\n",
      "  Cloning https://github.com/JustAnotherArchivist/snscrape.git to c:\\users\\sankalp\\appdata\\local\\temp\\pip-req-build-wozwxzhl\n",
      "  Resolved https://github.com/JustAnotherArchivist/snscrape.git to commit 614d4c2029a62d348ca56598f87c425966aaec66\n",
      "  Installing build dependencies: started\n",
      "  Installing build dependencies: finished with status 'done'\n",
      "  Getting requirements to build wheel: started\n",
      "  Getting requirements to build wheel: finished with status 'done'\n",
      "  Installing backend dependencies: started\n",
      "  Installing backend dependencies: finished with status 'done'\n",
      "    Preparing wheel metadata: started\n",
      "    Preparing wheel metadata: finished with status 'done'\n",
      "Requirement already satisfied: pytz in c:\\users\\sankalp\\anaconda3\\envs\\eda\\lib\\site-packages (from snscrape==0.7.0.20230622) (2022.1)\n",
      "Requirement already satisfied: requests[socks] in c:\\users\\sankalp\\anaconda3\\envs\\eda\\lib\\site-packages (from snscrape==0.7.0.20230622) (2.28.0)\n",
      "Collecting filelock\n",
      "  Downloading filelock-3.12.2-py3-none-any.whl (10 kB)\n",
      "Requirement already satisfied: beautifulsoup4 in c:\\users\\sankalp\\anaconda3\\envs\\eda\\lib\\site-packages (from snscrape==0.7.0.20230622) (4.11.1)\n",
      "Requirement already satisfied: lxml in c:\\users\\sankalp\\anaconda3\\envs\\eda\\lib\\site-packages (from snscrape==0.7.0.20230622) (5.4.0)\n"
     ]
    },
    {
     "name": "stderr",
     "output_type": "stream",
     "text": [
      "  Running command git clone -q https://github.com/JustAnotherArchivist/snscrape.git 'C:\\Users\\Sankalp\\AppData\\Local\\Temp\\pip-req-build-wozwxzhl'\n",
      "ERROR: Package 'snscrape' requires a different Python: 3.7.13 not in '~=3.8'\n"
     ]
    }
   ],
   "source": [
    "!pip install git+https://github.com/JustAnotherArchivist/snscrape.git"
   ]
  },
  {
   "cell_type": "code",
   "execution_count": 5,
   "id": "5039b4ee",
   "metadata": {},
   "outputs": [
    {
     "ename": "ScraperException",
     "evalue": "Unable to find guest token",
     "output_type": "error",
     "traceback": [
      "\u001b[1;31m---------------------------------------------------------------------------\u001b[0m",
      "\u001b[1;31mScraperException\u001b[0m                          Traceback (most recent call last)",
      "\u001b[1;32m~\\AppData\\Local\\Temp\\ipykernel_12108\\3692233356.py\u001b[0m in \u001b[0;36m<module>\u001b[1;34m\u001b[0m\n\u001b[0;32m     23\u001b[0m \u001b[1;33m\u001b[0m\u001b[0m\n\u001b[0;32m     24\u001b[0m \u001b[1;31m# Taylor Swift: Eras Tour or 1989 release\u001b[0m\u001b[1;33m\u001b[0m\u001b[1;33m\u001b[0m\u001b[1;33m\u001b[0m\u001b[0m\n\u001b[1;32m---> 25\u001b[1;33m \u001b[0mscrape_tweets\u001b[0m\u001b[1;33m(\u001b[0m\u001b[1;34m\"#TaylorSwift OR #1989TaylorsVersion OR #ErasTour since:2023-10-10 until:2023-11-10\"\u001b[0m\u001b[1;33m,\u001b[0m \u001b[1;36m10000\u001b[0m\u001b[1;33m,\u001b[0m \u001b[1;34m\"taylor_tweets.csv\"\u001b[0m\u001b[1;33m)\u001b[0m\u001b[1;33m\u001b[0m\u001b[1;33m\u001b[0m\u001b[0m\n\u001b[0m\u001b[0;32m     26\u001b[0m \u001b[1;33m\u001b[0m\u001b[0m\n\u001b[0;32m     27\u001b[0m \u001b[1;31m# Diljit Dosanjh: Coachella and Ghost album\u001b[0m\u001b[1;33m\u001b[0m\u001b[1;33m\u001b[0m\u001b[1;33m\u001b[0m\u001b[0m\n",
      "\u001b[1;32m~\\AppData\\Local\\Temp\\ipykernel_12108\\3692233356.py\u001b[0m in \u001b[0;36mscrape_tweets\u001b[1;34m(query, max_results, filename)\u001b[0m\n\u001b[0;32m      4\u001b[0m \u001b[1;32mdef\u001b[0m \u001b[0mscrape_tweets\u001b[0m\u001b[1;33m(\u001b[0m\u001b[0mquery\u001b[0m\u001b[1;33m,\u001b[0m \u001b[0mmax_results\u001b[0m\u001b[1;33m,\u001b[0m \u001b[0mfilename\u001b[0m\u001b[1;33m)\u001b[0m\u001b[1;33m:\u001b[0m\u001b[1;33m\u001b[0m\u001b[1;33m\u001b[0m\u001b[0m\n\u001b[0;32m      5\u001b[0m     \u001b[0mtweets\u001b[0m \u001b[1;33m=\u001b[0m \u001b[1;33m[\u001b[0m\u001b[1;33m]\u001b[0m\u001b[1;33m\u001b[0m\u001b[1;33m\u001b[0m\u001b[0m\n\u001b[1;32m----> 6\u001b[1;33m     \u001b[1;32mfor\u001b[0m \u001b[0mi\u001b[0m\u001b[1;33m,\u001b[0m \u001b[0mtweet\u001b[0m \u001b[1;32min\u001b[0m \u001b[0menumerate\u001b[0m\u001b[1;33m(\u001b[0m\u001b[0msntwitter\u001b[0m\u001b[1;33m.\u001b[0m\u001b[0mTwitterSearchScraper\u001b[0m\u001b[1;33m(\u001b[0m\u001b[0mquery\u001b[0m\u001b[1;33m)\u001b[0m\u001b[1;33m.\u001b[0m\u001b[0mget_items\u001b[0m\u001b[1;33m(\u001b[0m\u001b[1;33m)\u001b[0m\u001b[1;33m)\u001b[0m\u001b[1;33m:\u001b[0m\u001b[1;33m\u001b[0m\u001b[1;33m\u001b[0m\u001b[0m\n\u001b[0m\u001b[0;32m      7\u001b[0m         \u001b[1;32mif\u001b[0m \u001b[0mi\u001b[0m \u001b[1;33m>=\u001b[0m \u001b[0mmax_results\u001b[0m\u001b[1;33m:\u001b[0m\u001b[1;33m\u001b[0m\u001b[1;33m\u001b[0m\u001b[0m\n\u001b[0;32m      8\u001b[0m             \u001b[1;32mbreak\u001b[0m\u001b[1;33m\u001b[0m\u001b[1;33m\u001b[0m\u001b[0m\n",
      "\u001b[1;32m~\\anaconda3\\envs\\eda\\lib\\site-packages\\snscrape\\modules\\twitter.py\u001b[0m in \u001b[0;36mget_items\u001b[1;34m(self)\u001b[0m\n",
      "\u001b[1;32m~\\anaconda3\\envs\\eda\\lib\\site-packages\\snscrape\\modules\\twitter.py\u001b[0m in \u001b[0;36m_get_guest_token\u001b[1;34m(self)\u001b[0m\n",
      "\u001b[1;31mScraperException\u001b[0m: Unable to find guest token"
     ]
    }
   ],
   "source": [
    "import snscrape.modules.twitter as sntwitter\n",
    "import pandas as pd\n",
    "\n",
    "def scrape_tweets(query, max_results, filename):\n",
    "    tweets = []\n",
    "    for i, tweet in enumerate(sntwitter.TwitterSearchScraper(query).get_items()):\n",
    "        if i >= max_results:\n",
    "            break\n",
    "        tweets.append([\n",
    "            tweet.date,\n",
    "            tweet.id,\n",
    "            tweet.user.username,\n",
    "            tweet.content,\n",
    "            tweet.likeCount,\n",
    "            tweet.retweetCount,\n",
    "            tweet.hashtags,\n",
    "            tweet.url\n",
    "        ])\n",
    "\n",
    "    df = pd.DataFrame(tweets, columns=['date', 'tweet_id', 'username', 'text', 'likes', 'retweets', 'hashtags', 'url'])\n",
    "    df.to_csv(filename, index=False)\n",
    "    print(f\"Scraped {len(df)} tweets and saved to {filename}\")\n",
    "\n",
    "# Taylor Swift: Eras Tour or 1989 release\n",
    "scrape_tweets(\"#TaylorSwift OR #1989TaylorsVersion OR #ErasTour since:2023-10-10 until:2023-11-10\", 10000, \"taylor_tweets.csv\")\n",
    "\n",
    "# Diljit Dosanjh: Coachella and Ghost album\n",
    "scrape_tweets(\"Diljit OR #DiljitDosanjh OR #GhostAlbum OR #CoachellaDiljit since:2023-04-10 until:2023-05-10\", 10000, \"diljit_tweets.csv\")\n"
   ]
  },
  {
   "cell_type": "code",
   "execution_count": null,
   "id": "6419f64d",
   "metadata": {},
   "outputs": [],
   "source": [
    "!python -v"
   ]
  },
  {
   "cell_type": "code",
   "execution_count": null,
   "id": "a912c783",
   "metadata": {},
   "outputs": [],
   "source": []
  }
 ],
 "metadata": {
  "kernelspec": {
   "display_name": "Python 3 (ipykernel)",
   "language": "python",
   "name": "python3"
  },
  "language_info": {
   "codemirror_mode": {
    "name": "ipython",
    "version": 3
   },
   "file_extension": ".py",
   "mimetype": "text/x-python",
   "name": "python",
   "nbconvert_exporter": "python",
   "pygments_lexer": "ipython3",
   "version": "3.7.13"
  }
 },
 "nbformat": 4,
 "nbformat_minor": 5
}
